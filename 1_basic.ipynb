{
 "cells": [
  {
   "cell_type": "markdown",
   "id": "0090beca",
   "metadata": {},
   "source": [
    "Pandas is a fast, powerful, and flexible open-source Python library used for data manipulation and analysis, built on top of NumPy, providing easy-to-use data structures like Series and Data Frame for working with structured data.\n",
    "\n",
    "Working:\n",
    "i) import dataset \n",
    "ii) data cleaning\n",
    "iii) size mutability\n",
    "iv) reshaping and pivoting of datasets\n",
    "v) Efficient manipulation and extrlacltion\n",
    "vi) statistical analysis\n",
    "\n",
    "Data structure:\n",
    "i)\tSeries: This a 1D array; Like: 1 column or row\n",
    "ii)\tData frames: This is a 2D array. \n"
   ]
  },
  {
   "cell_type": "code",
   "execution_count": 2,
   "id": "2dd9c2a7",
   "metadata": {},
   "outputs": [],
   "source": [
    "import pandas as pd"
   ]
  },
  {
   "cell_type": "code",
   "execution_count": 8,
   "id": "a7813932",
   "metadata": {},
   "outputs": [
    {
     "name": "stdout",
     "output_type": "stream",
     "text": [
      "0    11\n",
      "1    22\n",
      "2    33\n",
      "3    44\n",
      "dtype: int64\n"
     ]
    }
   ],
   "source": [
    "serie = pd.Series([11,22,33,44])\n",
    "print(serie)"
   ]
  },
  {
   "cell_type": "code",
   "execution_count": 14,
   "id": "bf872ffd",
   "metadata": {},
   "outputs": [
    {
     "name": "stdout",
     "output_type": "stream",
     "text": [
      "int64\n",
      "[11 22 33 44]\n",
      "RangeIndex(start=0, stop=4, step=1)\n",
      "number\n"
     ]
    }
   ],
   "source": [
    "print(serie.dtype)\n",
    "print(serie.values)\n",
    "print(serie.index)\n",
    "print(serie.name)"
   ]
  },
  {
   "cell_type": "markdown",
   "id": "19c97229",
   "metadata": {},
   "source": [
    "Now try to add column name using  .name =  \" \""
   ]
  },
  {
   "cell_type": "code",
   "execution_count": 15,
   "id": "4e47cb2d",
   "metadata": {},
   "outputs": [
    {
     "name": "stdout",
     "output_type": "stream",
     "text": [
      "0    11\n",
      "1    22\n",
      "2    33\n",
      "3    44\n",
      "Name: number, dtype: int64\n"
     ]
    }
   ],
   "source": [
    "serie.name = \"number\"\n",
    "print(serie)"
   ]
  },
  {
   "cell_type": "markdown",
   "id": "68fb3388",
   "metadata": {},
   "source": [
    "But if we inter a char type data in the data set this time it show all are char."
   ]
  },
  {
   "cell_type": "code",
   "execution_count": 5,
   "id": "df9dd5ca",
   "metadata": {},
   "outputs": [
    {
     "name": "stdout",
     "output_type": "stream",
     "text": [
      "0       11\n",
      "1       22\n",
      "2    barun\n",
      "3       44\n",
      "dtype: object\n"
     ]
    }
   ],
   "source": [
    "s1 = pd.Series([11,22,'barun',44])\n",
    "print(s1)"
   ]
  }
 ],
 "metadata": {
  "kernelspec": {
   "display_name": "Python 3",
   "language": "python",
   "name": "python3"
  },
  "language_info": {
   "codemirror_mode": {
    "name": "ipython",
    "version": 3
   },
   "file_extension": ".py",
   "mimetype": "text/x-python",
   "name": "python",
   "nbconvert_exporter": "python",
   "pygments_lexer": "ipython3",
   "version": "3.13.2"
  }
 },
 "nbformat": 4,
 "nbformat_minor": 5
}
