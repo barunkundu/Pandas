{
 "cells": [
  {
   "cell_type": "code",
   "execution_count": 4,
   "id": "dce383f7",
   "metadata": {},
   "outputs": [],
   "source": [
    "import pandas as pd"
   ]
  },
  {
   "cell_type": "code",
   "execution_count": 5,
   "id": "9f39d13c",
   "metadata": {},
   "outputs": [
    {
     "name": "stdout",
     "output_type": "stream",
     "text": [
      "0    11\n",
      "1    22\n",
      "2    33\n",
      "3    44\n",
      "4    55\n",
      "dtype: int64\n"
     ]
    }
   ],
   "source": [
    "serie = pd.Series([11,22,33,44,55])\n",
    "print(serie)"
   ]
  },
  {
   "cell_type": "code",
   "execution_count": 6,
   "id": "fda84580",
   "metadata": {},
   "outputs": [
    {
     "name": "stdout",
     "output_type": "stream",
     "text": [
      "0    11\n",
      "1    22\n",
      "2    33\n",
      "3    44\n",
      "4    55\n",
      "Name: roll, dtype: int64\n"
     ]
    }
   ],
   "source": [
    "serie.name = \"roll\"\n",
    "print(serie)"
   ]
  },
  {
   "cell_type": "markdown",
   "id": "3124f808",
   "metadata": {},
   "source": [
    "Same as previous indexing  dataset[start:end:step]"
   ]
  },
  {
   "cell_type": "code",
   "execution_count": 7,
   "id": "864d93a4",
   "metadata": {},
   "outputs": [
    {
     "name": "stdout",
     "output_type": "stream",
     "text": [
      "0    11\n",
      "2    33\n",
      "4    55\n",
      "Name: roll, dtype: int64\n"
     ]
    }
   ],
   "source": [
    "print(serie[0:5:2])"
   ]
  },
  {
   "cell_type": "markdown",
   "id": "988a0413",
   "metadata": {},
   "source": [
    "One more thing Location based indexing ( .iloc[])"
   ]
  },
  {
   "cell_type": "code",
   "execution_count": 8,
   "id": "b3ac85aa",
   "metadata": {},
   "outputs": [
    {
     "data": {
      "text/plain": [
       "np.int64(44)"
      ]
     },
     "execution_count": 8,
     "metadata": {},
     "output_type": "execute_result"
    }
   ],
   "source": [
    "serie.iloc[3]"
   ]
  },
  {
   "cell_type": "code",
   "execution_count": 9,
   "id": "ba1d2e8c",
   "metadata": {},
   "outputs": [
    {
     "data": {
      "text/plain": [
       "1    22\n",
       "3    44\n",
       "Name: roll, dtype: int64"
      ]
     },
     "execution_count": 9,
     "metadata": {},
     "output_type": "execute_result"
    }
   ],
   "source": [
    "serie.iloc[[1,3]]"
   ]
  },
  {
   "cell_type": "markdown",
   "id": "02ed1c72",
   "metadata": {},
   "source": [
    "change the lebels "
   ]
  },
  {
   "cell_type": "code",
   "execution_count": 10,
   "id": "39d73021",
   "metadata": {},
   "outputs": [],
   "source": [
    "l = [\"barun\", \"ashok\", \"nikhil\", \"rahim\", \"kundu\"]"
   ]
  },
  {
   "cell_type": "code",
   "execution_count": 11,
   "id": "ada41f00",
   "metadata": {},
   "outputs": [
    {
     "name": "stdout",
     "output_type": "stream",
     "text": [
      "barun     11\n",
      "ashok     22\n",
      "nikhil    33\n",
      "rahim     44\n",
      "kundu     55\n",
      "Name: roll, dtype: int64\n"
     ]
    }
   ],
   "source": [
    "serie.index = l\n",
    "print(serie)"
   ]
  },
  {
   "cell_type": "markdown",
   "id": "7a40e8f8",
   "metadata": {},
   "source": [
    "index nameing"
   ]
  },
  {
   "cell_type": "code",
   "execution_count": 12,
   "id": "23ba4ab0",
   "metadata": {},
   "outputs": [
    {
     "name": "stdout",
     "output_type": "stream",
     "text": [
      "barun     11\n",
      "ashok     22\n",
      "nikhil    33\n",
      "rahim     44\n",
      "kundu     55\n",
      "Name: roll, dtype: int64\n"
     ]
    }
   ],
   "source": [
    "serie.name = \"roll\"\n",
    "print(serie)"
   ]
  },
  {
   "cell_type": "markdown",
   "id": "3d8f5251",
   "metadata": {},
   "source": [
    "Use new index try to access the value."
   ]
  },
  {
   "cell_type": "code",
   "execution_count": 13,
   "id": "d362583b",
   "metadata": {},
   "outputs": [
    {
     "data": {
      "text/plain": [
       "np.int64(11)"
      ]
     },
     "execution_count": 13,
     "metadata": {},
     "output_type": "execute_result"
    }
   ],
   "source": [
    "serie[\"barun\"]\n",
    "serie.loc[\"barun\"]"
   ]
  },
  {
   "cell_type": "code",
   "execution_count": 14,
   "id": "17270cc6",
   "metadata": {},
   "outputs": [
    {
     "data": {
      "text/plain": [
       "barun     11\n",
       "ashok     22\n",
       "nikhil    33\n",
       "Name: roll, dtype: int64"
      ]
     },
     "execution_count": 14,
     "metadata": {},
     "output_type": "execute_result"
    }
   ],
   "source": [
    "serie.loc[\"barun\": \"nikhil\"]"
   ]
  },
  {
   "cell_type": "code",
   "execution_count": 15,
   "id": "0a4d8b8d",
   "metadata": {},
   "outputs": [
    {
     "data": {
      "text/plain": [
       "barun     11\n",
       "nikhil    33\n",
       "Name: roll, dtype: int64"
      ]
     },
     "execution_count": 15,
     "metadata": {},
     "output_type": "execute_result"
    }
   ],
   "source": [
    "serie.loc[[\"barun\", \"nikhil\"]]"
   ]
  },
  {
   "cell_type": "markdown",
   "id": "975b0c34",
   "metadata": {},
   "source": [
    "How to create a series using dictionary"
   ]
  },
  {
   "cell_type": "code",
   "execution_count": 16,
   "id": "c53f7bab",
   "metadata": {},
   "outputs": [],
   "source": [
    "roll_number = {\"rahim\" : 11.0,\n",
    "               \"karim\" : 22,\n",
    "               \"jodu\" : 33,\n",
    "               \"modu\" : 44,\n",
    "               \"kodu\" : 55}"
   ]
  },
  {
   "cell_type": "code",
   "execution_count": 17,
   "id": "e32ebe58",
   "metadata": {},
   "outputs": [
    {
     "name": "stdout",
     "output_type": "stream",
     "text": [
      "rahim    11.0\n",
      "karim    22.0\n",
      "jodu     33.0\n",
      "modu     44.0\n",
      "kodu     55.0\n",
      "Name: roll, dtype: float64\n"
     ]
    }
   ],
   "source": [
    "serie2 = pd.Series(roll_number, name=\"roll\")\n",
    "print(serie2)"
   ]
  },
  {
   "cell_type": "markdown",
   "id": "92792a10",
   "metadata": {},
   "source": [
    "Need to find person who's roll number is less than 33"
   ]
  },
  {
   "cell_type": "markdown",
   "id": "f5be8f1f",
   "metadata": {},
   "source": [
    "Conditional selection"
   ]
  },
  {
   "cell_type": "code",
   "execution_count": 18,
   "id": "4edfdf25",
   "metadata": {},
   "outputs": [
    {
     "data": {
      "text/plain": [
       "rahim    False\n",
       "karim    False\n",
       "jodu      True\n",
       "modu      True\n",
       "kodu      True\n",
       "Name: roll, dtype: bool"
      ]
     },
     "execution_count": 18,
     "metadata": {},
     "output_type": "execute_result"
    }
   ],
   "source": [
    "serie2>=33"
   ]
  },
  {
   "cell_type": "markdown",
   "id": "f6818ee5",
   "metadata": {},
   "source": [
    "but need to see only that values who satisfy the condition"
   ]
  },
  {
   "cell_type": "code",
   "execution_count": 19,
   "id": "c7c7c84b",
   "metadata": {},
   "outputs": [
    {
     "data": {
      "text/plain": [
       "jodu    33.0\n",
       "modu    44.0\n",
       "kodu    55.0\n",
       "Name: roll, dtype: float64"
      ]
     },
     "execution_count": 19,
     "metadata": {},
     "output_type": "execute_result"
    }
   ],
   "source": [
    "serie2[serie2>=33]"
   ]
  },
  {
   "cell_type": "markdown",
   "id": "d4a015a2",
   "metadata": {},
   "source": [
    "Logical Operation"
   ]
  },
  {
   "cell_type": "code",
   "execution_count": 21,
   "id": "49ec07b8",
   "metadata": {},
   "outputs": [
    {
     "data": {
      "text/plain": [
       "[rahim    False\n",
       " karim    False\n",
       " jodu      True\n",
       " modu      True\n",
       " kodu     False\n",
       " Name: roll, dtype: bool]"
      ]
     },
     "execution_count": 21,
     "metadata": {},
     "output_type": "execute_result"
    }
   ],
   "source": [
    "[(serie2>22 )& (serie2<55)]"
   ]
  },
  {
   "cell_type": "code",
   "execution_count": 22,
   "id": "bb343e18",
   "metadata": {},
   "outputs": [
    {
     "data": {
      "text/plain": [
       "jodu    33.0\n",
       "modu    44.0\n",
       "Name: roll, dtype: float64"
      ]
     },
     "execution_count": 22,
     "metadata": {},
     "output_type": "execute_result"
    }
   ],
   "source": [
    "serie2[(serie2>22 )& (serie2<55)]"
   ]
  },
  {
   "cell_type": "code",
   "execution_count": 23,
   "id": "7df57d1f",
   "metadata": {},
   "outputs": [
    {
     "data": {
      "text/plain": [
       "rahim    11.0\n",
       "karim    22.0\n",
       "jodu     33.0\n",
       "modu     44.0\n",
       "kodu     55.0\n",
       "Name: roll, dtype: float64"
      ]
     },
     "execution_count": 23,
     "metadata": {},
     "output_type": "execute_result"
    }
   ],
   "source": [
    "serie2[(serie2>22 ) | (serie2<55)]"
   ]
  },
  {
   "cell_type": "code",
   "execution_count": 24,
   "id": "98424a74",
   "metadata": {},
   "outputs": [
    {
     "data": {
      "text/plain": [
       "rahim    11.0\n",
       "karim    22.0\n",
       "jodu     33.0\n",
       "Name: roll, dtype: float64"
      ]
     },
     "execution_count": 24,
     "metadata": {},
     "output_type": "execute_result"
    }
   ],
   "source": [
    "serie2[~(serie2>33)]"
   ]
  },
  {
   "cell_type": "markdown",
   "id": "036be59a",
   "metadata": {},
   "source": [
    "modifying the labels number"
   ]
  },
  {
   "cell_type": "code",
   "execution_count": 25,
   "id": "c24d0455",
   "metadata": {},
   "outputs": [
    {
     "name": "stdout",
     "output_type": "stream",
     "text": [
      "rahim    11.0\n",
      "karim    99.0\n",
      "jodu     33.0\n",
      "modu     44.0\n",
      "kodu     55.0\n",
      "Name: roll, dtype: float64\n"
     ]
    }
   ],
   "source": [
    "serie2.loc[\"karim\"] = 99\n",
    "print(serie2)"
   ]
  },
  {
   "cell_type": "code",
   "execution_count": 26,
   "id": "9e9ccf61",
   "metadata": {},
   "outputs": [],
   "source": [
    "import numpy as np"
   ]
  },
  {
   "cell_type": "code",
   "execution_count": 27,
   "id": "0477a8a1",
   "metadata": {},
   "outputs": [
    {
     "ename": "AttributeError",
     "evalue": "'function' object has no attribute 'sum'",
     "output_type": "error",
     "traceback": [
      "\u001b[31m---------------------------------------------------------------------------\u001b[39m",
      "\u001b[31mAttributeError\u001b[39m                            Traceback (most recent call last)",
      "\u001b[36mCell\u001b[39m\u001b[36m \u001b[39m\u001b[32mIn[27]\u001b[39m\u001b[32m, line 2\u001b[39m\n\u001b[32m      1\u001b[39m ser = pd.Series([\u001b[33m\"\u001b[39m\u001b[33ma\u001b[39m\u001b[33m\"\u001b[39m, \u001b[32m1\u001b[39m, np.nan, np.nan, \u001b[32m2\u001b[39m ])\n\u001b[32m----> \u001b[39m\u001b[32m2\u001b[39m \u001b[43mser\u001b[49m\u001b[43m.\u001b[49m\u001b[43mnotnull\u001b[49m\u001b[43m.\u001b[49m\u001b[43msum\u001b[49m()\n",
      "\u001b[31mAttributeError\u001b[39m: 'function' object has no attribute 'sum'"
     ]
    }
   ],
   "source": [
    "ser = pd.Series([\"a\", 1, np.nan, np.nan, 2 ])\n",
    "ser.notnull.sum()"
   ]
  },
  {
   "cell_type": "markdown",
   "id": "4df42582",
   "metadata": {},
   "source": [
    "Data frame"
   ]
  },
  {
   "cell_type": "code",
   "execution_count": 28,
   "id": "3f5d6d87",
   "metadata": {},
   "outputs": [],
   "source": [
    "data = {\n",
    "    \"Name\": [\"Alice\", \"Bob\", \"Charlie\", \"David\", \"Eve\", \"Alice\"],\n",
    "    \"Age\": [25, 30, 35, \"np.nan\", 29, 25],\n",
    "    \"Department\": [\"HR\", \"IT\", \"Finance\", \"IT\", \"HR\", \"HR\"],\n",
    "    \"Salary\": [50000, 60000, 70000, 62000, \"np.nan\", 50000]\n",
    "  }"
   ]
  },
  {
   "cell_type": "markdown",
   "id": "c9fd1df0",
   "metadata": {},
   "source": [
    "convert into data frame"
   ]
  },
  {
   "cell_type": "code",
   "execution_count": 29,
   "id": "e698b8fa",
   "metadata": {},
   "outputs": [
    {
     "name": "stdout",
     "output_type": "stream",
     "text": [
      "      Name     Age Department  Salary\n",
      "0    Alice      25         HR   50000\n",
      "1      Bob      30         IT   60000\n",
      "2  Charlie      35    Finance   70000\n",
      "3    David  np.nan         IT   62000\n",
      "4      Eve      29         HR  np.nan\n",
      "5    Alice      25         HR   50000\n"
     ]
    }
   ],
   "source": [
    "df = pd.DataFrame(data)\n",
    "print(df)"
   ]
  },
  {
   "cell_type": "code",
   "execution_count": 37,
   "id": "f44bb71a",
   "metadata": {},
   "outputs": [
    {
     "data": {
      "text/plain": [
       "0     50000\n",
       "1     60000\n",
       "2     70000\n",
       "3     62000\n",
       "4    np.nan\n",
       "5     50000\n",
       "Name: Salary, dtype: object"
      ]
     },
     "execution_count": 37,
     "metadata": {},
     "output_type": "execute_result"
    }
   ],
   "source": [
    "df[\"Salary\"]"
   ]
  },
  {
   "cell_type": "markdown",
   "id": "563c2550",
   "metadata": {},
   "source": [
    "select some specific variable data"
   ]
  },
  {
   "cell_type": "code",
   "execution_count": 44,
   "id": "6c5d872d",
   "metadata": {},
   "outputs": [
    {
     "data": {
      "text/html": [
       "<div>\n",
       "<style scoped>\n",
       "    .dataframe tbody tr th:only-of-type {\n",
       "        vertical-align: middle;\n",
       "    }\n",
       "\n",
       "    .dataframe tbody tr th {\n",
       "        vertical-align: top;\n",
       "    }\n",
       "\n",
       "    .dataframe thead th {\n",
       "        text-align: right;\n",
       "    }\n",
       "</style>\n",
       "<table border=\"1\" class=\"dataframe\">\n",
       "  <thead>\n",
       "    <tr style=\"text-align: right;\">\n",
       "      <th></th>\n",
       "      <th>Name</th>\n",
       "      <th>Age</th>\n",
       "      <th>Salary</th>\n",
       "    </tr>\n",
       "  </thead>\n",
       "  <tbody>\n",
       "    <tr>\n",
       "      <th>1</th>\n",
       "      <td>Bob</td>\n",
       "      <td>30</td>\n",
       "      <td>60000</td>\n",
       "    </tr>\n",
       "    <tr>\n",
       "      <th>2</th>\n",
       "      <td>Charlie</td>\n",
       "      <td>35</td>\n",
       "      <td>70000</td>\n",
       "    </tr>\n",
       "    <tr>\n",
       "      <th>3</th>\n",
       "      <td>David</td>\n",
       "      <td>np.nan</td>\n",
       "      <td>62000</td>\n",
       "    </tr>\n",
       "  </tbody>\n",
       "</table>\n",
       "</div>"
      ],
      "text/plain": [
       "      Name     Age Salary\n",
       "1      Bob      30  60000\n",
       "2  Charlie      35  70000\n",
       "3    David  np.nan  62000"
      ]
     },
     "execution_count": 44,
     "metadata": {},
     "output_type": "execute_result"
    }
   ],
   "source": [
    "df.loc[1:3, [\"Name\",\"Age\", \"Salary\"]]"
   ]
  },
  {
   "cell_type": "code",
   "execution_count": 34,
   "id": "bb9cfa77",
   "metadata": {},
   "outputs": [
    {
     "data": {
      "text/html": [
       "<div>\n",
       "<style scoped>\n",
       "    .dataframe tbody tr th:only-of-type {\n",
       "        vertical-align: middle;\n",
       "    }\n",
       "\n",
       "    .dataframe tbody tr th {\n",
       "        vertical-align: top;\n",
       "    }\n",
       "\n",
       "    .dataframe thead th {\n",
       "        text-align: right;\n",
       "    }\n",
       "</style>\n",
       "<table border=\"1\" class=\"dataframe\">\n",
       "  <thead>\n",
       "    <tr style=\"text-align: right;\">\n",
       "      <th></th>\n",
       "      <th>Name</th>\n",
       "      <th>Age</th>\n",
       "      <th>Department</th>\n",
       "      <th>Salary</th>\n",
       "    </tr>\n",
       "  </thead>\n",
       "  <tbody>\n",
       "    <tr>\n",
       "      <th>0</th>\n",
       "      <td>Alice</td>\n",
       "      <td>25</td>\n",
       "      <td>HR</td>\n",
       "      <td>50000</td>\n",
       "    </tr>\n",
       "  </tbody>\n",
       "</table>\n",
       "</div>"
      ],
      "text/plain": [
       "    Name Age Department Salary\n",
       "0  Alice  25         HR  50000"
      ]
     },
     "execution_count": 34,
     "metadata": {},
     "output_type": "execute_result"
    }
   ],
   "source": [
    "df.head(1) #in the top how many numbers we need to see"
   ]
  },
  {
   "cell_type": "code",
   "execution_count": 36,
   "id": "f1b904dc",
   "metadata": {},
   "outputs": [
    {
     "data": {
      "text/html": [
       "<div>\n",
       "<style scoped>\n",
       "    .dataframe tbody tr th:only-of-type {\n",
       "        vertical-align: middle;\n",
       "    }\n",
       "\n",
       "    .dataframe tbody tr th {\n",
       "        vertical-align: top;\n",
       "    }\n",
       "\n",
       "    .dataframe thead th {\n",
       "        text-align: right;\n",
       "    }\n",
       "</style>\n",
       "<table border=\"1\" class=\"dataframe\">\n",
       "  <thead>\n",
       "    <tr style=\"text-align: right;\">\n",
       "      <th></th>\n",
       "      <th>Name</th>\n",
       "      <th>Age</th>\n",
       "      <th>Department</th>\n",
       "      <th>Salary</th>\n",
       "    </tr>\n",
       "  </thead>\n",
       "  <tbody>\n",
       "    <tr>\n",
       "      <th>5</th>\n",
       "      <td>Alice</td>\n",
       "      <td>25</td>\n",
       "      <td>HR</td>\n",
       "      <td>50000</td>\n",
       "    </tr>\n",
       "  </tbody>\n",
       "</table>\n",
       "</div>"
      ],
      "text/plain": [
       "    Name Age Department Salary\n",
       "5  Alice  25         HR  50000"
      ]
     },
     "execution_count": 36,
     "metadata": {},
     "output_type": "execute_result"
    }
   ],
   "source": [
    "df.tail(1) # show last numbers "
   ]
  },
  {
   "cell_type": "markdown",
   "id": "fd397465",
   "metadata": {},
   "source": [
    ".loc Or .iloc function use "
   ]
  },
  {
   "cell_type": "code",
   "execution_count": null,
   "id": "ca47d448",
   "metadata": {},
   "outputs": [],
   "source": [
    "df"
   ]
  }
 ],
 "metadata": {
  "kernelspec": {
   "display_name": "Python 3",
   "language": "python",
   "name": "python3"
  },
  "language_info": {
   "codemirror_mode": {
    "name": "ipython",
    "version": 3
   },
   "file_extension": ".py",
   "mimetype": "text/x-python",
   "name": "python",
   "nbconvert_exporter": "python",
   "pygments_lexer": "ipython3",
   "version": "3.13.2"
  }
 },
 "nbformat": 4,
 "nbformat_minor": 5
}
