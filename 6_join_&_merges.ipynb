{
 "cells": [
  {
   "cell_type": "code",
   "execution_count": 1,
   "id": "b6dae13c",
   "metadata": {},
   "outputs": [
    {
     "name": "stdout",
     "output_type": "stream",
     "text": [
      "          Name   Age Department   Salary\n",
      "0  Alice_kundu  25.0         HR  50000.0\n",
      "1          Bob  30.0         IT  60000.0\n",
      "2      Charlie  35.0    Finance  70000.0\n",
      "3        David   NaN         IT  62000.0\n",
      "4          Eve  29.0         HR      NaN\n",
      "5        Alice  25.0         HR  50000.0\n"
     ]
    }
   ],
   "source": [
    "import numpy as np\n",
    "import pandas as pd\n",
    "data = {\n",
    "    \"Name\": [\"Alice_kundu\", \"Bob\", \"Charlie\", \"David\", \"Eve\", \"Alice\"],\n",
    "    \"Age\": [25, 30, 35, np.nan, 29, 25],\n",
    "    \"Department\": [\"HR\", \"IT\", \"Finance\", \"IT\", \"HR\", \"HR\"],\n",
    "    \"Salary\": [50000, 60000, 70000, 62000, np.nan, 50000]\n",
    "  }\n",
    "df = pd.DataFrame(data)\n",
    "print(df)"
   ]
  },
  {
   "cell_type": "code",
   "execution_count": 7,
   "id": "8786927f",
   "metadata": {},
   "outputs": [
    {
     "name": "stdout",
     "output_type": "stream",
     "text": [
      "  Department   area\n",
      "0         HR  dhaka\n",
      "1    Finance    raj\n",
      "2         IT  pabna\n"
     ]
    }
   ],
   "source": [
    "data1 = {\n",
    "    \"Department\": [\"HR\", \"Finance\", \"IT\"],\n",
    "    \"area\" : [\"dhaka\", \"raj\", \"pabna\"]\n",
    "  }\n",
    "df2 = pd.DataFrame(data1)\n",
    "print(df2)"
   ]
  },
  {
   "cell_type": "markdown",
   "id": "a9eb0411",
   "metadata": {},
   "source": [
    "nowl join"
   ]
  },
  {
   "cell_type": "code",
   "execution_count": null,
   "id": "75e4702d",
   "metadata": {},
   "outputs": [
    {
     "name": "stdout",
     "output_type": "stream",
     "text": [
      "          Name   Age Department   Salary   area\n",
      "0  Alice_kundu  25.0         HR  50000.0  dhaka\n",
      "1          Bob  30.0         IT  60000.0  pabna\n",
      "2      Charlie  35.0    Finance  70000.0    raj\n",
      "3        David   NaN         IT  62000.0  pabna\n",
      "4          Eve  29.0         HR      NaN  dhaka\n",
      "5        Alice  25.0         HR  50000.0  dhaka\n"
     ]
    }
   ],
   "source": [
    "df3 = pd.merge(df, df2, on = \"Department\", how= \"inner\") # as like we are set left, right, outer\n",
    "print(df3)"
   ]
  },
  {
   "cell_type": "markdown",
   "id": "f13ec91c",
   "metadata": {},
   "source": [
    "function .concat"
   ]
  },
  {
   "cell_type": "code",
   "execution_count": 11,
   "id": "91deeb26",
   "metadata": {},
   "outputs": [
    {
     "data": {
      "text/html": [
       "<div>\n",
       "<style scoped>\n",
       "    .dataframe tbody tr th:only-of-type {\n",
       "        vertical-align: middle;\n",
       "    }\n",
       "\n",
       "    .dataframe tbody tr th {\n",
       "        vertical-align: top;\n",
       "    }\n",
       "\n",
       "    .dataframe thead th {\n",
       "        text-align: right;\n",
       "    }\n",
       "</style>\n",
       "<table border=\"1\" class=\"dataframe\">\n",
       "  <thead>\n",
       "    <tr style=\"text-align: right;\">\n",
       "      <th></th>\n",
       "      <th>Name</th>\n",
       "      <th>Age</th>\n",
       "      <th>Department</th>\n",
       "      <th>Salary</th>\n",
       "      <th>area</th>\n",
       "    </tr>\n",
       "  </thead>\n",
       "  <tbody>\n",
       "    <tr>\n",
       "      <th>0</th>\n",
       "      <td>Alice_kundu</td>\n",
       "      <td>25.0</td>\n",
       "      <td>HR</td>\n",
       "      <td>50000.0</td>\n",
       "      <td>NaN</td>\n",
       "    </tr>\n",
       "    <tr>\n",
       "      <th>1</th>\n",
       "      <td>Bob</td>\n",
       "      <td>30.0</td>\n",
       "      <td>IT</td>\n",
       "      <td>60000.0</td>\n",
       "      <td>NaN</td>\n",
       "    </tr>\n",
       "    <tr>\n",
       "      <th>2</th>\n",
       "      <td>Charlie</td>\n",
       "      <td>35.0</td>\n",
       "      <td>Finance</td>\n",
       "      <td>70000.0</td>\n",
       "      <td>NaN</td>\n",
       "    </tr>\n",
       "    <tr>\n",
       "      <th>3</th>\n",
       "      <td>David</td>\n",
       "      <td>NaN</td>\n",
       "      <td>IT</td>\n",
       "      <td>62000.0</td>\n",
       "      <td>NaN</td>\n",
       "    </tr>\n",
       "    <tr>\n",
       "      <th>4</th>\n",
       "      <td>Eve</td>\n",
       "      <td>29.0</td>\n",
       "      <td>HR</td>\n",
       "      <td>NaN</td>\n",
       "      <td>NaN</td>\n",
       "    </tr>\n",
       "    <tr>\n",
       "      <th>5</th>\n",
       "      <td>Alice</td>\n",
       "      <td>25.0</td>\n",
       "      <td>HR</td>\n",
       "      <td>50000.0</td>\n",
       "      <td>NaN</td>\n",
       "    </tr>\n",
       "    <tr>\n",
       "      <th>0</th>\n",
       "      <td>NaN</td>\n",
       "      <td>NaN</td>\n",
       "      <td>HR</td>\n",
       "      <td>NaN</td>\n",
       "      <td>dhaka</td>\n",
       "    </tr>\n",
       "    <tr>\n",
       "      <th>1</th>\n",
       "      <td>NaN</td>\n",
       "      <td>NaN</td>\n",
       "      <td>Finance</td>\n",
       "      <td>NaN</td>\n",
       "      <td>raj</td>\n",
       "    </tr>\n",
       "    <tr>\n",
       "      <th>2</th>\n",
       "      <td>NaN</td>\n",
       "      <td>NaN</td>\n",
       "      <td>IT</td>\n",
       "      <td>NaN</td>\n",
       "      <td>pabna</td>\n",
       "    </tr>\n",
       "  </tbody>\n",
       "</table>\n",
       "</div>"
      ],
      "text/plain": [
       "          Name   Age Department   Salary   area\n",
       "0  Alice_kundu  25.0         HR  50000.0    NaN\n",
       "1          Bob  30.0         IT  60000.0    NaN\n",
       "2      Charlie  35.0    Finance  70000.0    NaN\n",
       "3        David   NaN         IT  62000.0    NaN\n",
       "4          Eve  29.0         HR      NaN    NaN\n",
       "5        Alice  25.0         HR  50000.0    NaN\n",
       "0          NaN   NaN         HR      NaN  dhaka\n",
       "1          NaN   NaN    Finance      NaN    raj\n",
       "2          NaN   NaN         IT      NaN  pabna"
      ]
     },
     "execution_count": 11,
     "metadata": {},
     "output_type": "execute_result"
    }
   ],
   "source": [
    "pd.concat([df, df2])"
   ]
  },
  {
   "cell_type": "code",
   "execution_count": 13,
   "id": "0e433d74",
   "metadata": {},
   "outputs": [
    {
     "data": {
      "text/html": [
       "<div>\n",
       "<style scoped>\n",
       "    .dataframe tbody tr th:only-of-type {\n",
       "        vertical-align: middle;\n",
       "    }\n",
       "\n",
       "    .dataframe tbody tr th {\n",
       "        vertical-align: top;\n",
       "    }\n",
       "\n",
       "    .dataframe thead th {\n",
       "        text-align: right;\n",
       "    }\n",
       "</style>\n",
       "<table border=\"1\" class=\"dataframe\">\n",
       "  <thead>\n",
       "    <tr style=\"text-align: right;\">\n",
       "      <th></th>\n",
       "      <th>Name</th>\n",
       "      <th>Age</th>\n",
       "      <th>Department</th>\n",
       "      <th>Salary</th>\n",
       "      <th>Department</th>\n",
       "      <th>area</th>\n",
       "    </tr>\n",
       "  </thead>\n",
       "  <tbody>\n",
       "    <tr>\n",
       "      <th>0</th>\n",
       "      <td>Alice_kundu</td>\n",
       "      <td>25.0</td>\n",
       "      <td>HR</td>\n",
       "      <td>50000.0</td>\n",
       "      <td>HR</td>\n",
       "      <td>dhaka</td>\n",
       "    </tr>\n",
       "    <tr>\n",
       "      <th>1</th>\n",
       "      <td>Bob</td>\n",
       "      <td>30.0</td>\n",
       "      <td>IT</td>\n",
       "      <td>60000.0</td>\n",
       "      <td>Finance</td>\n",
       "      <td>raj</td>\n",
       "    </tr>\n",
       "    <tr>\n",
       "      <th>2</th>\n",
       "      <td>Charlie</td>\n",
       "      <td>35.0</td>\n",
       "      <td>Finance</td>\n",
       "      <td>70000.0</td>\n",
       "      <td>IT</td>\n",
       "      <td>pabna</td>\n",
       "    </tr>\n",
       "    <tr>\n",
       "      <th>3</th>\n",
       "      <td>David</td>\n",
       "      <td>NaN</td>\n",
       "      <td>IT</td>\n",
       "      <td>62000.0</td>\n",
       "      <td>NaN</td>\n",
       "      <td>NaN</td>\n",
       "    </tr>\n",
       "    <tr>\n",
       "      <th>4</th>\n",
       "      <td>Eve</td>\n",
       "      <td>29.0</td>\n",
       "      <td>HR</td>\n",
       "      <td>NaN</td>\n",
       "      <td>NaN</td>\n",
       "      <td>NaN</td>\n",
       "    </tr>\n",
       "    <tr>\n",
       "      <th>5</th>\n",
       "      <td>Alice</td>\n",
       "      <td>25.0</td>\n",
       "      <td>HR</td>\n",
       "      <td>50000.0</td>\n",
       "      <td>NaN</td>\n",
       "      <td>NaN</td>\n",
       "    </tr>\n",
       "  </tbody>\n",
       "</table>\n",
       "</div>"
      ],
      "text/plain": [
       "          Name   Age Department   Salary Department   area\n",
       "0  Alice_kundu  25.0         HR  50000.0         HR  dhaka\n",
       "1          Bob  30.0         IT  60000.0    Finance    raj\n",
       "2      Charlie  35.0    Finance  70000.0         IT  pabna\n",
       "3        David   NaN         IT  62000.0        NaN    NaN\n",
       "4          Eve  29.0         HR      NaN        NaN    NaN\n",
       "5        Alice  25.0         HR  50000.0        NaN    NaN"
      ]
     },
     "execution_count": 13,
     "metadata": {},
     "output_type": "execute_result"
    }
   ],
   "source": [
    "pd.concat([df, df2], axis=1)"
   ]
  }
 ],
 "metadata": {
  "kernelspec": {
   "display_name": "Python 3",
   "language": "python",
   "name": "python3"
  },
  "language_info": {
   "codemirror_mode": {
    "name": "ipython",
    "version": 3
   },
   "file_extension": ".py",
   "mimetype": "text/x-python",
   "name": "python",
   "nbconvert_exporter": "python",
   "pygments_lexer": "ipython3",
   "version": "3.13.2"
  }
 },
 "nbformat": 4,
 "nbformat_minor": 5
}
